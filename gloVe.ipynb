{
 "cells": [
  {
   "cell_type": "code",
   "execution_count": 2,
   "metadata": {},
   "outputs": [
    {
     "name": "stdout",
     "output_type": "stream",
     "text": [
      "Loaded 400000 word vectors.\n",
      "{'Chemistry': 2.382527732849121, 'Places': -4.462366938591003}\n",
      "{'Chemistry': -0.1494653820991516, 'Places': 3.5302454829216003}\n",
      "{'Chemistry': 0.5357846260070801, 'Places': 14.7840416431427}\n"
     ]
    }
   ],
   "source": [
    "import numpy as np\n",
    "\n",
    "# Category -> words\n",
    "data = {\n",
    "  'Chemistry': ['sodium','Potassium','Magnesium','Phosphorous','Chloride'],\n",
    "  'Coagulation': ['MCH', 'MCHC','INR'],\n",
    "  'Places': ['tokyo','bejing','washington','mumbai'],\n",
    "}\n",
    "# Words -> category\n",
    "categories = {word: key for key, words in data.items() for word in words}\n",
    "\n",
    "# Load the whole embedding matrix\n",
    "embeddings_index = {}\n",
    "with open(r'C:\\Users\\Dhivya\\Desktop\\glove.6B.100d.txt', encoding = \"utf-8\") as f:\n",
    "  for line in f:\n",
    "    values = line.split()\n",
    "    word = values[0]\n",
    "    embed = np.array(values[1:], dtype=np.float32)\n",
    "    embeddings_index[word] = embed\n",
    "print('Loaded %s word vectors.' % len(embeddings_index))\n",
    "# Embeddings for available words\n",
    "data_embeddings = {key: value for key, value in embeddings_index.items() if key in categories.keys()}\n",
    "\n",
    "# Processing the query\n",
    "def process(query):\n",
    "  query_embed = embeddings_index[query]\n",
    "  scores = {}\n",
    "  for word, embed in data_embeddings.items():\n",
    "    category = categories[word]\n",
    "    dist = query_embed.dot(embed)\n",
    "    dist /= len(data[category])\n",
    "    scores[category] = scores.get(category, 0) + dist\n",
    "  return scores\n",
    "\n",
    "# Testing\n",
    "print(process('bilirubin'))\n",
    "print(process('frank'))\n",
    "print(process('moscow'))\n",
    "\n",
    "# data : glove : http://nlp.stanford.edu/data/glove.6B.zip"
   ]
  },
  {
   "cell_type": "code",
   "execution_count": null,
   "metadata": {
    "collapsed": true
   },
   "outputs": [],
   "source": []
  }
 ],
 "metadata": {
  "kernelspec": {
   "display_name": "Python 3",
   "language": "python",
   "name": "python3"
  },
  "language_info": {
   "codemirror_mode": {
    "name": "ipython",
    "version": 3
   },
   "file_extension": ".py",
   "mimetype": "text/x-python",
   "name": "python",
   "nbconvert_exporter": "python",
   "pygments_lexer": "ipython3",
   "version": "3.5.2"
  }
 },
 "nbformat": 4,
 "nbformat_minor": 2
}
